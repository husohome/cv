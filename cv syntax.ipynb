{
 "cells": [
  {
   "cell_type": "markdown",
   "metadata": {},
   "source": [
    "# main ideas\n",
    "1. use txt files to store all necessary information\n",
    "2. build a parser that reads my lines dynamically\n",
    "3. build a cv builder that decides what elements are displayed"
   ]
  },
  {
   "cell_type": "code",
   "execution_count": 56,
   "metadata": {},
   "outputs": [],
   "source": [
    "test_entry = \"\"\"\n",
    "    @RAship $3000CAD 201509-201806\n",
    "        quantitative analysis\n",
    "        completed 100% of the tasks on time.\n",
    "        other_specifications:: I don't know\n",
    "    PI:: Dr. Owen Lo\n",
    "        #goodfornothing #quant\n",
    "    \n",
    "    \n",
    "    @AnotherRAship $3000/hr 201509-201806\n",
    "        quantitative analysis\n",
    "        completed 100% of the tasks on time.\n",
    "        other_specifications:: I don't know\n",
    "    #goodfornothing #quant\n",
    "    \n",
    "    \n",
    "\"\"\""
   ]
  },
  {
   "cell_type": "code",
   "execution_count": 57,
   "metadata": {},
   "outputs": [
    {
     "data": {
      "text/plain": [
       "[('title', 'RAship'),\n",
       " ('money', '3000'),\n",
       " ('start_ym', '201509'),\n",
       " ('end_ym', '201806'),\n",
       " ('content', 'quantitative'),\n",
       " ('content', 'analysis'),\n",
       " ('content', 'completed'),\n",
       " ('content', '100%'),\n",
       " ('content', 'of'),\n",
       " ('content', 'the'),\n",
       " ('content', 'tasks'),\n",
       " ('content', 'on'),\n",
       " ('content', 'time.'),\n",
       " ('other_specifications', ''),\n",
       " ('content', 'I'),\n",
       " ('content', \"don't\"),\n",
       " ('content', 'know'),\n",
       " ('PI', ''),\n",
       " ('content', 'Dr.'),\n",
       " ('content', 'Owen'),\n",
       " ('content', 'Lo'),\n",
       " ('tag', 'goodfornothing'),\n",
       " ('tag', 'quant'),\n",
       " ('title', 'AnotherRAship'),\n",
       " ('money', '3000'),\n",
       " ('start_ym', '201509'),\n",
       " ('end_ym', '201806'),\n",
       " ('content', 'quantitative'),\n",
       " ('content', 'analysis'),\n",
       " ('content', 'completed'),\n",
       " ('content', '100%'),\n",
       " ('content', 'of'),\n",
       " ('content', 'the'),\n",
       " ('content', 'tasks'),\n",
       " ('content', 'on'),\n",
       " ('content', 'time.'),\n",
       " ('other_specifications', ''),\n",
       " ('content', 'I'),\n",
       " ('content', \"don't\"),\n",
       " ('content', 'know'),\n",
       " ('tag', 'goodfornothing'),\n",
       " ('tag', 'quant')]"
      ]
     },
     "execution_count": 57,
     "metadata": {},
     "output_type": "execute_result"
    }
   ],
   "source": [
    "import re\n",
    "\n",
    "def lex(text):    \n",
    "    cleaned_text = re.sub(\"\\s+\", \" \", text).split()\n",
    "    for token in cleaned_text:\n",
    "        t = token.strip()\n",
    "        m_title = re.match(r\"@([^\\r\\n]+)\", t)\n",
    "        m_money = re.match(r\"\\$(\\d+)[^\\r\\n]{0,6}(\\w\\wD)?\", t)\n",
    "        m_yyyymm = re.match(r\"(\\d{4,6})[-~]?(\\d{4,6})?\", t)\n",
    "        m_tags = re.match(r\"\\#([^\\r\\n]+)\", t)\n",
    "        # self-defined categories\n",
    "        m_other_specs = re.match(r\"([^\\r\\n]+)::\", t)\n",
    "        if m_title: yield \"title\", m_title.group(1)\n",
    "        elif  m_money: \n",
    "            yield \"money\", m_money.group(1)\n",
    "            if m_money.group(2) is not None: \n",
    "                yield \"money\", m_money.group(2)\n",
    "        elif m_yyyymm:\n",
    "            yield \"start_ym\", m_yyyymm.group(1)\n",
    "            if m_yyyymm.group(2) is not None:\n",
    "                yield \"end_ym\", m_yyyymm.group(2)\n",
    "            else:\n",
    "                yield \"end_ym\", \"present\"\n",
    "        elif m_tags: yield \"tag\", m_tags.group(1)\n",
    "        elif m_other_specs: yield m_other_specs.group(1), \"\"\n",
    "        else:\n",
    "            yield \"content\", t\n",
    "\n",
    "list(lex(test_entry))"
   ]
  },
  {
   "cell_type": "code",
   "execution_count": 59,
   "metadata": {},
   "outputs": [
    {
     "data": {
      "text/plain": [
       "{'RAship': {'start_ym': '201509',\n",
       "  'end_ym': '201806',\n",
       "  'money': 'quantitative analysis completed 100% of the tasks on time. ',\n",
       "  'other_specifications': \"I don't know \",\n",
       "  'PI': 'Dr. Owen Lo ',\n",
       "  'tags': ['goodfornothing', 'quant']},\n",
       " 'AnotherRAship': {'start_ym': '201509',\n",
       "  'end_ym': '201806',\n",
       "  'money': 'quantitative analysis completed 100% of the tasks on time. ',\n",
       "  'other_specifications': \"I don't know \",\n",
       "  'tags': ['goodfornothing', 'quant']}}"
      ]
     },
     "execution_count": 59,
     "metadata": {},
     "output_type": "execute_result"
    }
   ],
   "source": [
    "def parse(lexemes):\n",
    "    syntax_tree = {}\n",
    "    current_title, current_subtitle, current_streak = \"\", \"\", \"\"\n",
    "    predefined_labels = [\"start_ym\", \"end_ym\", \"title\", \"salary\", \"tag\", \"content\"]\n",
    "    for k, v in lexemes:\n",
    "        if k == 'title':\n",
    "            syntax_tree[v] = {}\n",
    "            current_title = v\n",
    "            current_subtitle = \"\"\n",
    "            content_streak = \"\"\n",
    "        elif k not in predefined_labels: # user-specified subtitle\n",
    "            current_subtitle = k\n",
    "            content_streak = \"\"\n",
    "        elif k == \"content\":\n",
    "            content_streak += v + \" \"\n",
    "            if current_subtitle == \"\":\n",
    "                syntax_tree[current_title]['content'] = content_streak\n",
    "            else:\n",
    "                syntax_tree[current_title][current_subtitle] = content_streak\n",
    "        elif k == \"tag\":\n",
    "            if \"tags\" not in syntax_tree[current_title].keys():\n",
    "                syntax_tree[current_title]['tags'] = [v]\n",
    "            else:\n",
    "                syntax_tree[current_title]['tags'].append(v)    \n",
    "        else:\n",
    "            syntax_tree[current_title][k] = v\n",
    "    return syntax_tree\n",
    "\n",
    "parse(lex(test_entry))"
   ]
  }
 ],
 "metadata": {
  "kernelspec": {
   "display_name": "Python 3",
   "language": "python",
   "name": "python3"
  },
  "language_info": {
   "codemirror_mode": {
    "name": "ipython",
    "version": 3
   },
   "file_extension": ".py",
   "mimetype": "text/x-python",
   "name": "python",
   "nbconvert_exporter": "python",
   "pygments_lexer": "ipython3",
   "version": "3.7.9"
  }
 },
 "nbformat": 4,
 "nbformat_minor": 4
}
